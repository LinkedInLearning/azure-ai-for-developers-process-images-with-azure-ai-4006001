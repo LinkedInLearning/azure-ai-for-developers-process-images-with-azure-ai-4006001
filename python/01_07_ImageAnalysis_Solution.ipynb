{
 "cells": [
  {
   "cell_type": "markdown",
   "metadata": {},
   "source": [
    "## Image Analysis Solution"
   ]
  },
  {
   "cell_type": "markdown",
   "metadata": {},
   "source": [
    "## Install Library"
   ]
  },
  {
   "cell_type": "code",
   "execution_count": null,
   "metadata": {},
   "outputs": [],
   "source": [
    "%pip install azure-ai-vision-imageanalysis"
   ]
  },
  {
   "cell_type": "markdown",
   "metadata": {},
   "source": [
    "## Load Azure Configuration"
   ]
  },
  {
   "cell_type": "code",
   "execution_count": 6,
   "metadata": {},
   "outputs": [],
   "source": [
    "import os\n",
    "azure_computer_vision_endpoint = os.environ[\"AZURE_COMPUTER_VISION_ENDPOINT\"]\n",
    "azure_computer_vision_key = os.environ[\"AZURE_COMPUTER_VISION_KEY\"]"
   ]
  },
  {
   "cell_type": "markdown",
   "metadata": {},
   "source": [
    "## Create Image Analysis Client"
   ]
  },
  {
   "cell_type": "code",
   "execution_count": 7,
   "metadata": {},
   "outputs": [],
   "source": [
    "from azure.ai.vision.imageanalysis import ImageAnalysisClient\n",
    "from azure.ai.vision.imageanalysis.models import VisualFeatures\n",
    "from azure.core.credentials import AzureKeyCredential\n",
    "\n",
    "# Create an Image Analysis client\n",
    "client = ImageAnalysisClient(\n",
    "    endpoint=azure_computer_vision_endpoint,\n",
    "    credential=AzureKeyCredential(azure_computer_vision_key)\n",
    ")"
   ]
  },
  {
   "cell_type": "markdown",
   "metadata": {},
   "source": [
    "## Analyze from URL"
   ]
  },
  {
   "cell_type": "code",
   "execution_count": 8,
   "metadata": {},
   "outputs": [
    {
     "name": "stdout",
     "output_type": "stream",
     "text": [
      "Caption:\n",
      "   'Mount Fuji with a body of water', Confidence 0.6901\n",
      "Dense Captions:\n",
      "   'a mountain with a body of water', Confidence 0.6901\n",
      "   'a body of water with buildings and trees in the background', Confidence 0.7534\n",
      "   'a snow covered mountain top', Confidence 0.7857\n",
      "   'a snow covered mountain top', Confidence 0.7466\n",
      "   'a mountain with snow on top and a body of water', Confidence 0.6718\n",
      "   'a snow covered mountain top', Confidence 0.7960\n",
      "   'a blue sky with clouds', Confidence 0.6940\n",
      "   'a snow covered mountain top', Confidence 0.7816\n",
      "Tags:\n",
      "   'outdoor', Confidence 0.9937\n",
      "   'sky', Confidence 0.9864\n",
      "   'nature', Confidence 0.9795\n",
      "   'water', Confidence 0.9708\n",
      "   'mountain', Confidence 0.9206\n",
      "   'cloud', Confidence 0.9159\n",
      "   'landscape', Confidence 0.9098\n",
      "   'stratovolcano', Confidence 0.8986\n",
      "   'mountain range', Confidence 0.8476\n",
      "   'lake', Confidence 0.5719\n",
      "   'volcano', Confidence 0.5181\n",
      "   'reflection', Confidence 0.4520\n"
     ]
    }
   ],
   "source": [
    "# Get a caption for the image. This will be a synchronously (blocking) call.\n",
    "result = client.analyze_from_url(\n",
    "    image_url=\"https://ziggystorage01.blob.core.windows.net/images/mtfuji.jpeg\",\n",
    "    visual_features=[VisualFeatures.CAPTION, VisualFeatures.DENSE_CAPTIONS, VisualFeatures.TAGS],\n",
    "    gender_neutral_caption=True,  # Optional (default is False)\n",
    ")\n",
    "\n",
    "print(\"Caption:\")\n",
    "if result.caption is not None:\n",
    "    print(f\"   '{result.caption.text}', Confidence {result.caption.confidence:.4f}\")\n",
    "\n",
    "print(\"Dense Captions:\")\n",
    "for item in result.dense_captions['values']:\n",
    "    print(f\"   '{item['text']}', Confidence {item['confidence']:.4f}\")\n",
    "\n",
    "print(\"Tags:\")\n",
    "for item in result.tags['values']:\n",
    "    print(f\"   '{item['name']}', Confidence {item['confidence']:.4f}\")"
   ]
  }
 ],
 "metadata": {
  "kernelspec": {
   "display_name": "Python 3",
   "language": "python",
   "name": "python3"
  },
  "language_info": {
   "codemirror_mode": {
    "name": "ipython",
    "version": 3
   },
   "file_extension": ".py",
   "mimetype": "text/x-python",
   "name": "python",
   "nbconvert_exporter": "python",
   "pygments_lexer": "ipython3",
   "version": "3.12.1"
  }
 },
 "nbformat": 4,
 "nbformat_minor": 2
}
