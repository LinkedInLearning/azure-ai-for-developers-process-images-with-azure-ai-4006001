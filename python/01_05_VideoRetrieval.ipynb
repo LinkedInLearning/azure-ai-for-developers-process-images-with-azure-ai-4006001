{
 "cells": [
  {
   "cell_type": "markdown",
   "metadata": {},
   "source": [
    "# Azure AI Video Retrieval APIs\n",
    "\n",
    "To use the Video Retrieval APIs in a typical pattern, you'll follow these steps:\n",
    "\n",
    "1. Create an index using PUT - Create an index.\n",
    "2. Add video documents to the index using PUT - CreateIngestion.\n",
    "3. Wait for the ingestion to complete, checking with GET - ListIngestions.\n",
    "4. Search for a keyword or phrase using POST - SearchByText."
   ]
  },
  {
   "cell_type": "markdown",
   "metadata": {},
   "source": [
    "## Load Azure Configuration"
   ]
  },
  {
   "cell_type": "code",
   "execution_count": null,
   "metadata": {},
   "outputs": [],
   "source": [
    "import os\n",
    "azure_computer_vision_endpoint = os.environ[\"AZURE_COMPUTER_VISION_ENDPOINT\"]\n",
    "azure_computer_vision_key = os.environ[\"AZURE_COMPUTER_VISION_KEY\"]\n",
    "VIDEO_INDEX = \"my-video-index-01\""
   ]
  },
  {
   "cell_type": "markdown",
   "metadata": {},
   "source": [
    "## Step 1 Create Index"
   ]
  },
  {
   "cell_type": "code",
   "execution_count": null,
   "metadata": {},
   "outputs": [],
   "source": [
    "import requests\n",
    "import json\n",
    "\n",
    "# Define the endpoint URL and subscription key\n",
    "index_name = VIDEO_INDEX\n",
    "endpoint_url = f\"{azure_computer_vision_endpoint}/computervision/retrieval/indexes/{index_name}?api-version=2023-05-01-preview\"\n",
    "subscription_key = azure_computer_vision_key\n",
    "\n",
    "# Define the headers\n",
    "headers = {\n",
    "    \"Ocp-Apim-Subscription-Key\": subscription_key,\n",
    "    \"Content-Type\": \"application/json\"\n",
    "}\n",
    "\n",
    "# Define the payload\n",
    "payload = {\n",
    "    \"metadataSchema\": {\n",
    "        # Define the fields that you want to include in the index\n",
    "        \"fields\": [\n",
    "            {\n",
    "                \"name\": \"cameraId\",\n",
    "                \"searchable\": False,\n",
    "                \"filterable\": True,\n",
    "                \"type\": \"string\"\n",
    "            },\n",
    "            {\n",
    "                \"name\": \"timestamp\",\n",
    "                \"searchable\": False,\n",
    "                \"filterable\": True,\n",
    "                \"type\": \"datetime\"\n",
    "            }\n",
    "        ]\n",
    "    },\n",
    "    \"features\": [\n",
    "        # Define the features that you want to include in the index\n",
    "        # https://learn.microsoft.com/en-us/azure/ai-services/computer-vision/reference-video-search#featuremodel\n",
    "        {\n",
    "            \"name\": \"vision\",\n",
    "            \"domain\": \"surveillance\"\n",
    "        },\n",
    "        {\n",
    "            \"name\": \"speech\"\n",
    "        }\n",
    "    ]\n",
    "}\n",
    "\n",
    "# Make the PUT request\n",
    "response = requests.put(endpoint_url, headers=headers, json=payload)\n",
    "\n",
    "# Print the response\n",
    "print(response.status_code)\n",
    "# Pretty-print the response JSON if the request was successful\n",
    "print(json.dumps(response.json(), indent=4))"
   ]
  },
  {
   "cell_type": "markdown",
   "metadata": {},
   "source": [
    "## Step 2: Add video files to the index"
   ]
  },
  {
   "cell_type": "code",
   "execution_count": null,
   "metadata": {},
   "outputs": [],
   "source": [
    "import requests\n",
    "import json\n",
    "\n",
    "# Define the endpoint URL and subscription key\n",
    "index_name = VIDEO_INDEX\n",
    "endpoint_url = f\"{azure_computer_vision_endpoint}/computervision/retrieval/indexes/{index_name}/ingestions/my-ingestion?api-version=2023-05-01-preview\"\n",
    "subscription_key = azure_computer_vision_key\n",
    "\n",
    "headers = {\n",
    "    \"Ocp-Apim-Subscription-Key\": subscription_key,\n",
    "    \"Content-Type\": \"application/json\"\n",
    "}\n",
    "\n",
    "payload = {\n",
    "    # Define the videos that you want to ingest\n",
    "    \"videos\": [\n",
    "    {\n",
    "      \"mode\": \"add\",\n",
    "      \"documentId\": \"001\",\n",
    "      \"documentUrl\": \"https://linkedinstorage01.blob.core.windows.net/videos/mercedes.mp4\",\n",
    "      \"metadata\": {\n",
    "        \"cameraId\": \"camera1\",\n",
    "        \"timestamp\": \"2025-03-07 16:40:33\"\n",
    "      }\n",
    "    },\n",
    "    {\n",
    "      \"mode\": \"add\",\n",
    "      \"documentId\": \"002\",\n",
    "      \"documentUrl\": \"https://ziggystorage01.blob.core.windows.net/videos/dow.mp4\",\n",
    "      \"metadata\": {\n",
    "        \"cameraId\": \"camera2\",\n",
    "        \"timestamp\": \"2025-03-07 17:25:12\"\n",
    "      }\n",
    "    }\n",
    "  ]\n",
    "}\n",
    "\n",
    "response = requests.put(endpoint_url, headers=headers, json=payload)\n",
    "print(response.status_code)\n",
    "# Pretty-print the response JSON if the request was successful\n",
    "print(json.dumps(response.json(), indent=4))"
   ]
  },
  {
   "cell_type": "markdown",
   "metadata": {},
   "source": [
    "## Step 3: Wait for ingestion to complete\n",
    "\n",
    "Wait for the status to be completed"
   ]
  },
  {
   "cell_type": "code",
   "execution_count": null,
   "metadata": {},
   "outputs": [],
   "source": [
    "import requests\n",
    "import json\n",
    "\n",
    "# Define the endpoint URL and subscription key\n",
    "index_name = VIDEO_INDEX\n",
    "endpoint_url = f\"{azure_computer_vision_endpoint}/computervision/retrieval/indexes/{index_name}/ingestions?api-version=2023-05-01-preview&$top=20\"\n",
    "subscription_key = azure_computer_vision_key\n",
    "\n",
    "headers = {\n",
    "    \"Ocp-Apim-Subscription-Key\": subscription_key\n",
    "}\n",
    "\n",
    "# Make the GET request\n",
    "response = requests.get(endpoint_url, headers=headers)\n",
    "\n",
    "# Check the response status code\n",
    "if response.status_code == 200:\n",
    "    # Pretty-print the response JSON if the request was successful\n",
    "    print(json.dumps(response.json(), indent=4))\n",
    "else:\n",
    "    # Print the error message if the request failed\n",
    "    print(f\"Error: {response.status_code}\")\n",
    "    print(response.text)"
   ]
  },
  {
   "cell_type": "markdown",
   "metadata": {},
   "source": [
    "## [Optional] List Documents\n",
    "\n",
    "As an optional step, we can list the documents ingested"
   ]
  },
  {
   "cell_type": "code",
   "execution_count": null,
   "metadata": {},
   "outputs": [],
   "source": [
    "import requests\n",
    "import json\n",
    "\n",
    "# Define the endpoint URL and subscription key\n",
    "index_name = VIDEO_INDEX\n",
    "endpoint_url = f\"{azure_computer_vision_endpoint}/computervision/retrieval/indexes/{index_name}/documents?api-version=2023-05-01-preview\"\n",
    "subscription_key = azure_computer_vision_key\n",
    "\n",
    "headers = {\n",
    "    \"Ocp-Apim-Subscription-Key\": subscription_key\n",
    "}\n",
    "\n",
    "# Make the GET request\n",
    "response = requests.get(endpoint_url, headers=headers)\n",
    "\n",
    "# Check the response status code\n",
    "if response.status_code == 200:\n",
    "    # Pretty-print the response JSON if the request was successful\n",
    "    print(json.dumps(response.json(), indent=4))\n",
    "else:\n",
    "    # Print the error message if the request failed\n",
    "    print(f\"Error: {response.status_code}\")\n",
    "    print(response.text)"
   ]
  },
  {
   "cell_type": "markdown",
   "metadata": {},
   "source": [
    "## Step 4: Perform searches with metadata - Vision Feature"
   ]
  },
  {
   "cell_type": "code",
   "execution_count": null,
   "metadata": {},
   "outputs": [],
   "source": [
    "import requests\n",
    "import json\n",
    "\n",
    "# Define the endpoint URL and subscription key\n",
    "index_name = VIDEO_INDEX\n",
    "endpoint_url = f\"{azure_computer_vision_endpoint}/computervision/retrieval/indexes/{index_name}:queryByText?api-version=2023-05-01-preview\"\n",
    "subscription_key = azure_computer_vision_key\n",
    "\n",
    "headers = {\n",
    "    \"Ocp-Apim-Subscription-Key\": subscription_key,\n",
    "    \"Content-Type\": \"application/json\"\n",
    "}\n",
    "\n",
    "# Define the payload\n",
    "payload = {\n",
    "  \"queryText\": \"mercedes benz\",\n",
    "  \"filters\": {\n",
    "    \"stringFilters\": [\n",
    "      {\n",
    "        \"fieldName\": \"cameraId\",\n",
    "        \"values\": [\"camera1\",\"camera2\"]\n",
    "      }\n",
    "    ],\n",
    "    \"featureFilters\": [\"vision\"]\n",
    "  }\n",
    "}\n",
    "\n",
    "# Make the POST request\n",
    "response = requests.post(endpoint_url, headers=headers, json=payload)\n",
    "\n",
    "# Check the response status code\n",
    "if response.status_code == 200:\n",
    "    # Pretty-print the response JSON if the request was successful\n",
    "    print(json.dumps(response.json(), indent=4))\n",
    "else:\n",
    "    # Print the error message if the request failed\n",
    "    print(f\"Error: {response.status_code}\")\n",
    "    print(response.text)"
   ]
  },
  {
   "cell_type": "markdown",
   "metadata": {},
   "source": [
    "## Step 4: Perform searches with metadata - Speech Feature"
   ]
  },
  {
   "cell_type": "code",
   "execution_count": null,
   "metadata": {},
   "outputs": [],
   "source": [
    "import requests\n",
    "import json\n",
    "\n",
    "# Define the endpoint URL and subscription key\n",
    "index_name = VIDEO_INDEX\n",
    "endpoint_url = f\"{azure_computer_vision_endpoint}/computervision/retrieval/indexes/{index_name}:queryByText?api-version=2023-05-01-preview\"\n",
    "subscription_key = azure_computer_vision_key\n",
    "\n",
    "headers = {\n",
    "    \"Ocp-Apim-Subscription-Key\": subscription_key,\n",
    "    \"Content-Type\": \"application/json\"\n",
    "}\n",
    "\n",
    "# Define the payload\n",
    "payload = {\n",
    "  \"queryText\": \"leak\",\n",
    "  \"dedup\": False,\n",
    "  \"filters\": {\n",
    "    \"stringFilters\": [\n",
    "      {\n",
    "        \"fieldName\": \"cameraId\",\n",
    "        \"values\": [\"camera1\",\"camera2\"]\n",
    "      }\n",
    "    ],\n",
    "    \"featureFilters\": [\"speech\"]\n",
    "  }\n",
    "}\n",
    "\n",
    "# Make the POST request\n",
    "response = requests.post(endpoint_url, headers=headers, json=payload)\n",
    "\n",
    "# Check the response status code\n",
    "if response.status_code == 200:\n",
    "    # Pretty-print the response JSON if the request was successful\n",
    "    print(json.dumps(response.json(), indent=4))\n",
    "else:\n",
    "    # Print the error message if the request failed\n",
    "    print(f\"Error: {response.status_code}\")\n",
    "    print(response.text)"
   ]
  },
  {
   "cell_type": "markdown",
   "metadata": {},
   "source": [
    "## Step 5: Delete the Index"
   ]
  },
  {
   "cell_type": "code",
   "execution_count": null,
   "metadata": {},
   "outputs": [],
   "source": [
    "import requests\n",
    "\n",
    "# Define the endpoint URL and subscription key\n",
    "index_name = VIDEO_INDEX\n",
    "endpoint_url = f\"{azure_computer_vision_endpoint}/computervision/retrieval/indexes/{index_name}?api-version=2023-05-01-preview\"\n",
    "subscription_key = azure_computer_vision_key\n",
    "\n",
    "headers = {\n",
    "    \"Ocp-Apim-Subscription-Key\": subscription_key\n",
    "}\n",
    "\n",
    "# Make the DELETE request\n",
    "response = requests.delete(endpoint_url, headers=headers)\n",
    "\n",
    "# Check the response status code\n",
    "if response.status_code == 204:\n",
    "    print(\"Index deleted successfully.\")\n",
    "else:\n",
    "    print(f\"Error: {response.status_code}\")\n",
    "    print(response.text)"
   ]
  }
 ],
 "metadata": {
  "kernelspec": {
   "display_name": "Python 3",
   "language": "python",
   "name": "python3"
  },
  "language_info": {
   "codemirror_mode": {
    "name": "ipython",
    "version": 3
   },
   "file_extension": ".py",
   "mimetype": "text/x-python",
   "name": "python",
   "nbconvert_exporter": "python",
   "pygments_lexer": "ipython3",
   "version": "3.10.12"
  }
 },
 "nbformat": 4,
 "nbformat_minor": 2
}
