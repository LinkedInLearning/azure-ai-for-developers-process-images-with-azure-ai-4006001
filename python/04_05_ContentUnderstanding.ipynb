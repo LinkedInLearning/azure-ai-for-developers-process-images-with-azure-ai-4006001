{
 "cells": [
  {
   "cell_type": "markdown",
   "metadata": {},
   "source": [
    "# Azure AI Content Understanding\n",
    "\n",
    "Azure AI Content Understanding is a new generative AI-based Azure AI Service that analyzes files of any modality (documents, images, videos, and audio) and extracts structured output in user-defined field formats.\n",
    "\n",
    "Requirements:\n",
    "1. Azure AI Services\n",
    "\n",
    "Note: Check supported regions: https://learn.microsoft.com/en-us/azure/ai-services/content-understanding/language-region-support?tabs=document#region-support"
   ]
  },
  {
   "cell_type": "markdown",
   "metadata": {},
   "source": [
    "## Load Azure Configuration"
   ]
  },
  {
   "cell_type": "code",
   "execution_count": null,
   "metadata": {},
   "outputs": [],
   "source": [
    "import os\n",
    "\n",
    "azure_ai_services_endpoint = os.environ[\"AZURE_AI_SERVICES_ENDPOINT\"]\n",
    "azure_ai_services_key = os.environ[\"AZURE_AI_SERVICES_KEY\"]"
   ]
  },
  {
   "cell_type": "markdown",
   "metadata": {},
   "source": [
    "## Create a Custom Analyzer"
   ]
  },
  {
   "cell_type": "code",
   "execution_count": null,
   "metadata": {},
   "outputs": [],
   "source": [
    "import requests\n",
    "import json\n",
    "\n",
    "# Create a new analyzer\n",
    "def create_analyzer(analyzer_id, request_body):\n",
    "    endpoint = azure_ai_services_endpoint\n",
    "    key = azure_ai_services_key\n",
    "    \n",
    "    url = f\"{endpoint}/contentunderstanding/analyzers/{analyzer_id}?api-version=2024-12-01-preview\"\n",
    "    headers = {\n",
    "        \"Ocp-Apim-Subscription-Key\": key,\n",
    "        \"Content-Type\": \"application/json\"\n",
    "    }\n",
    "    \n",
    "    response = requests.put(url, headers=headers, data=json.dumps(request_body))\n",
    "    # The 201 (Created) response includes an Operation-Location header containing a URL that you can use to track the status of this asynchronous creation operation.\n",
    "    operation_location = response.headers.get(\"Operation-Location\")\n",
    "    return operation_location"
   ]
  },
  {
   "cell_type": "code",
   "execution_count": null,
   "metadata": {},
   "outputs": [],
   "source": [
    "ANALYZER_NAME = \"ImageAnalyzer\"\n",
    "\n",
    "request_body = {\n",
    "    \"description\": \"Sample Image analyzer\",\n",
    "    \"scenario\": \"image\",\n",
    "    \"fieldSchema\": {\n",
    "        \"fields\": {\n",
    "            \"title\": {\n",
    "                \"type\": \"string\"\n",
    "            },\n",
    "            \"imagedescription\": {\n",
    "                \"type\": \"string\",\n",
    "                \"method\": \"generate\"\n",
    "            },\n",
    "            \"imagecategory\": {\n",
    "                \"type\": \"string\",\n",
    "                \"method\": \"classify\",\n",
    "                \"enum\": [\"car\", \"bus\", \"bicycle\"]\n",
    "            }\n",
    "        }\n",
    "    }\n",
    "}\n",
    "\n",
    "custom_analyzer_operation_location = create_analyzer(ANALYZER_NAME, request_body)\n",
    "\n",
    "print(custom_analyzer_operation_location)"
   ]
  },
  {
   "cell_type": "markdown",
   "metadata": {},
   "source": [
    "## Track Status of Asynchronous Create Operation"
   ]
  },
  {
   "cell_type": "code",
   "execution_count": null,
   "metadata": {},
   "outputs": [],
   "source": [
    "import requests\n",
    "\n",
    "def get_analyzer_operation_status(url):\n",
    "    \n",
    "    key = azure_ai_services_key\n",
    "    \n",
    "    headers = {\n",
    "        \"Ocp-Apim-Subscription-Key\": key\n",
    "    }\n",
    "    \n",
    "    response = requests.get(url, headers=headers)\n",
    "    \n",
    "    if response.status_code == 200:\n",
    "        print(\"Operation status retrieved successfully.\")\n",
    "        print(response.json())\n",
    "    else:\n",
    "        print(f\"Failed to retrieve operation status. Status code: {response.status_code}, Response: {response.text}\")"
   ]
  },
  {
   "cell_type": "code",
   "execution_count": null,
   "metadata": {},
   "outputs": [],
   "source": [
    "response = get_analyzer_operation_status(custom_analyzer_operation_location)"
   ]
  },
  {
   "cell_type": "markdown",
   "metadata": {},
   "source": [
    "## Analyze a file"
   ]
  },
  {
   "cell_type": "code",
   "execution_count": null,
   "metadata": {},
   "outputs": [],
   "source": [
    "import requests\n",
    "\n",
    "def analyze_file(analyzer_id, file_url):\n",
    "    \n",
    "    endpoint = azure_ai_services_endpoint\n",
    "    key = azure_ai_services_key\n",
    "\n",
    "    api_version = \"2024-12-01-preview\"\n",
    "    url = f\"{endpoint}/contentunderstanding/analyzers/{analyzer_id}:analyze?api-version={api_version}\"\n",
    "    headers = {\n",
    "        \"Ocp-Apim-Subscription-Key\": key,\n",
    "        \"Content-Type\": \"application/json\"\n",
    "    }\n",
    "    data = {\n",
    "        \"url\": file_url\n",
    "    }\n",
    "\n",
    "    response = requests.post(url, headers=headers, json=data)\n",
    "    \n",
    "    operation_location = response.headers.get(\"Operation-Location\")\n",
    "    # print(f\"Operation-Location: {operation_location}\")\n",
    "    return operation_location\n"
   ]
  },
  {
   "cell_type": "code",
   "execution_count": null,
   "metadata": {},
   "outputs": [],
   "source": [
    "analyze_file_operation_location = analyze_file(ANALYZER_NAME, \"https://ziggystorage01.blob.core.windows.net/images/bus1.jpeg\")\n",
    "print(analyze_file_operation_location)"
   ]
  },
  {
   "cell_type": "markdown",
   "metadata": {},
   "source": [
    "## Track Status of Analysis"
   ]
  },
  {
   "cell_type": "code",
   "execution_count": null,
   "metadata": {},
   "outputs": [],
   "source": [
    "import requests\n",
    "\n",
    "def analyze_file_track_status(url):\n",
    "    key = azure_ai_services_key\n",
    "\n",
    "    headers = {\n",
    "        \"Ocp-Apim-Subscription-Key\": key,\n",
    "        \"Content-Type\": \"application/json\"\n",
    "    }\n",
    "\n",
    "    response = requests.get(url, headers=headers)\n",
    "    \n",
    "    if response.status_code == 200:\n",
    "        response_json = response.json()\n",
    "        status = response_json.get(\"status\")\n",
    "        if status == \"Succeeded\":\n",
    "            return response_json\n",
    "        else:\n",
    "            return status\n",
    "    else:\n",
    "        response.raise_for_status()"
   ]
  },
  {
   "cell_type": "code",
   "execution_count": null,
   "metadata": {},
   "outputs": [],
   "source": [
    "result = analyze_file_track_status(analyze_file_operation_location)\n",
    "\n",
    "if isinstance(result, dict) and result.get(\"status\") == \"Succeeded\":\n",
    "    contents = result.get(\"result\", {}).get(\"contents\", [])\n",
    "    if contents:\n",
    "        fields = contents[0].get(\"fields\", {})\n",
    "        image_description = fields.get(\"imagedescription\", {}).get(\"valueString\")\n",
    "        image_category = fields.get(\"imagecategory\", {}).get(\"valueString\")\n",
    "        title = fields.get(\"title\", {}).get(\"valueString\")\n",
    "        \n",
    "        print(f\"Title: {title}\")\n",
    "        print(f\"Image Description: {image_description}\")\n",
    "        print(f\"Image Category: {image_category}\")\n",
    "else:\n",
    "    print(result)"
   ]
  },
  {
   "cell_type": "code",
   "execution_count": null,
   "metadata": {},
   "outputs": [],
   "source": [
    "analyze_file_operation_location = analyze_file(ANALYZER_NAME, \"https://ziggystorage01.blob.core.windows.net/images/car1.jpeg\")"
   ]
  },
  {
   "cell_type": "code",
   "execution_count": null,
   "metadata": {},
   "outputs": [],
   "source": [
    "result = analyze_file_track_status(analyze_file_operation_location)\n",
    "\n",
    "if isinstance(result, dict) and result.get(\"status\") == \"Succeeded\":\n",
    "    contents = result.get(\"result\", {}).get(\"contents\", [])\n",
    "    if contents:\n",
    "        fields = contents[0].get(\"fields\", {})\n",
    "        image_description = fields.get(\"imagedescription\", {}).get(\"valueString\")\n",
    "        image_category = fields.get(\"imagecategory\", {}).get(\"valueString\")\n",
    "        title = fields.get(\"title\", {}).get(\"valueString\")\n",
    "        \n",
    "        print(f\"Title: {title}\")\n",
    "        print(f\"Image Description: {image_description}\")\n",
    "        print(f\"Image Category: {image_category}\")\n",
    "else:\n",
    "    print(result)"
   ]
  },
  {
   "cell_type": "markdown",
   "metadata": {},
   "source": [
    "## Delete Analyzer"
   ]
  },
  {
   "cell_type": "code",
   "execution_count": null,
   "metadata": {},
   "outputs": [],
   "source": [
    "import requests\n",
    "\n",
    "def delete_analyzer(analyzer_id):\n",
    "    endpoint = azure_ai_services_endpoint\n",
    "    key = azure_ai_services_key\n",
    "\n",
    "    api_version = \"2024-12-01-preview\"\n",
    "    url = f\"{endpoint}/contentunderstanding/analyzers/{analyzer_id}?api-version={api_version}\"\n",
    "    \n",
    "    headers = {\n",
    "        \"Ocp-Apim-Subscription-Key\": key,\n",
    "        \"Content-Type\": \"application/json\"\n",
    "    }\n",
    "\n",
    "    response = requests.delete(url, headers=headers)\n",
    "    \n",
    "    if response.status_code == 204:\n",
    "        return \"Analyzer deleted successfully.\"\n",
    "    else:\n",
    "        response.raise_for_status()"
   ]
  },
  {
   "cell_type": "code",
   "execution_count": null,
   "metadata": {},
   "outputs": [],
   "source": [
    "result = delete_analyzer(ANALYZER_NAME)\n",
    "print(result)"
   ]
  },
  {
   "cell_type": "markdown",
   "metadata": {},
   "source": [
    "## Analyzing Video Example"
   ]
  },
  {
   "cell_type": "markdown",
   "metadata": {},
   "source": [
    "## Create Custom Analyzer"
   ]
  },
  {
   "cell_type": "code",
   "execution_count": null,
   "metadata": {},
   "outputs": [],
   "source": [
    "ANALYZER_NAME = \"VideoAnalyzerZZ\"\n",
    "\n",
    "request_body = {\n",
    "    \"description\": \"Sample Video analyzer\",\n",
    "    \"scenario\": \"videoShot\",\n",
    "    \"fieldSchema\": {\n",
    "        \"fields\": {\n",
    "            \"title\": {\n",
    "                \"type\": \"string\"\n",
    "            },\n",
    "            \"videodescription\": {\n",
    "                \"type\": \"string\",\n",
    "                \"method\": \"generate\",\n",
    "                \"description\": \"Detailed summary of the video segment\"\n",
    "            },\n",
    "            \"company\": {\n",
    "                \"type\": \"string\",\n",
    "                \"method\": \"generate\",\n",
    "                \"description\": \"The company that this video segment is about\"\n",
    "            },\n",
    "            \"azure\": {\n",
    "                \"type\": \"string\",\n",
    "                \"method\": \"generate\",\n",
    "                \"description\": \"The Microsoft Azure service used by the company in this video\"\n",
    "            },\n",
    "            \"azurepurpose\": {\n",
    "                \"type\": \"string\",\n",
    "                \"method\": \"generate\",\n",
    "                \"description\": \"The purpose of why the Microsoft Azure service is being used by the company\"\n",
    "            },\n",
    "        }\n",
    "    }\n",
    "}\n",
    "\n",
    "custom_analyzer_operation_location = create_analyzer(ANALYZER_NAME, request_body)\n",
    "\n",
    "print(custom_analyzer_operation_location)"
   ]
  },
  {
   "cell_type": "markdown",
   "metadata": {},
   "source": [
    "## Track Status of Custom Analyzer"
   ]
  },
  {
   "cell_type": "code",
   "execution_count": null,
   "metadata": {},
   "outputs": [],
   "source": [
    "response = get_analyzer_operation_status(custom_analyzer_operation_location)"
   ]
  },
  {
   "cell_type": "markdown",
   "metadata": {},
   "source": [
    "## Analyze the file"
   ]
  },
  {
   "cell_type": "code",
   "execution_count": null,
   "metadata": {},
   "outputs": [],
   "source": [
    "analyze_file_operation_location = analyze_file(ANALYZER_NAME, \"https://ziggystorage01.blob.core.windows.net/videos/mercedes.mp4\")\n",
    "print(analyze_file_operation_location)"
   ]
  },
  {
   "cell_type": "markdown",
   "metadata": {},
   "source": [
    "## Track status of File Analysis"
   ]
  },
  {
   "cell_type": "code",
   "execution_count": null,
   "metadata": {},
   "outputs": [],
   "source": [
    "result = analyze_file_track_status(analyze_file_operation_location)\n",
    "\n",
    "if isinstance(result, dict) and result.get(\"status\") == \"Succeeded\":\n",
    "    contents = result.get(\"result\", {}).get(\"contents\", [])\n",
    "    if contents:\n",
    "        fields = contents[0].get(\"fields\", {})\n",
    "        title = fields.get(\"title\", {}).get(\"valueString\")\n",
    "        company = fields.get(\"company\", {}).get(\"valueString\")\n",
    "        video_description = fields.get(\"videodescription\", {}).get(\"valueString\")\n",
    "        azure = fields.get(\"azure\", {}).get(\"valueString\")\n",
    "        azurepurpose = fields.get(\"azurepurpose\", {}).get(\"valueString\")\n",
    "\n",
    "        print(f\"Title: {title}\")\n",
    "        print(f\"Company: {company}\")\n",
    "        print(f\"Video Description: {video_description}\")\n",
    "        print(f\"Azure Product: {azure}\")\n",
    "        print(f\"Azure Purpose: {azurepurpose}\")\n",
    "        \n",
    "else:\n",
    "    print(result)"
   ]
  },
  {
   "cell_type": "code",
   "execution_count": null,
   "metadata": {},
   "outputs": [],
   "source": [
    "result = delete_analyzer(ANALYZER_NAME)\n",
    "print(result)"
   ]
  }
 ],
 "metadata": {
  "kernelspec": {
   "display_name": "Python 3",
   "language": "python",
   "name": "python3"
  },
  "language_info": {
   "codemirror_mode": {
    "name": "ipython",
    "version": 3
   },
   "file_extension": ".py",
   "mimetype": "text/x-python",
   "name": "python",
   "nbconvert_exporter": "python",
   "pygments_lexer": "ipython3",
   "version": "3.10.12"
  }
 },
 "nbformat": 4,
 "nbformat_minor": 2
}
