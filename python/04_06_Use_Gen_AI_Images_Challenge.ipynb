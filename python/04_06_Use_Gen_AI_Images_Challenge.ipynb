{
 "cells": [
  {
   "cell_type": "markdown",
   "metadata": {},
   "source": [
    "## Use Generative AI in Images Challenge\n",
    "\n",
    "In this challenge, you will perform the following tasks:\n",
    "\n",
    "1. You will generate 3 dog images using Azure OpenAI. Two images will be of a bulldog while the last image is a poodle. You will use the following prompts:\n",
    "- Create an image of a playful bulldog puppy sitting in a grassy park, with a colorful ball next to it. The bulldog should have a happy expression and its tongue sticking out.\n",
    "- Generate an image of a regal-looking adult bulldog wearing a small crown, sitting on a red velvet cushion. The background should be a luxurious room with elegant decor.\n",
    "- Create an image of a poodle dressed in a cute outfit, walking down a city street with a leash in its mouth.\n",
    "2. You will use Azure OpenAI to analyze the first image created.\n",
    "3. You will then get the image embeddings for each image and find their cosine similarity to determine which of the images are more similar.\n",
    "4. You will get the text embeddings for the word bulldog and poodle and determine their cosine similarity for each image. You should be able to determine which of the words have a stronger relationship to an image."
   ]
  }
 ],
 "metadata": {
  "language_info": {
   "name": "python"
  }
 },
 "nbformat": 4,
 "nbformat_minor": 2
}
