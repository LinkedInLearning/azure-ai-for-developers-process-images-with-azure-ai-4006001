{
 "cells": [
  {
   "cell_type": "markdown",
   "metadata": {},
   "source": [
    "# Custom Image Classification Challenge\n",
    "\n",
    "Create a Custom Classification System that classifies images as either a car, bus or bicycle.\n",
    "1. Create a Custom Vision Resource\n",
    "2. Store the environment variables in a .env file\n",
    "3. Use the photos under the customclassificationchallenge folder\n",
    "4. Test the system using different scenarios\n",
    "5. Set publish_iteration_name = \"classifyModelChallenge\"\n",
    "6. Verify results in code and the Custom Vision Studio"
   ]
  }
 ],
 "metadata": {
  "language_info": {
   "name": "python"
  }
 },
 "nbformat": 4,
 "nbformat_minor": 2
}
