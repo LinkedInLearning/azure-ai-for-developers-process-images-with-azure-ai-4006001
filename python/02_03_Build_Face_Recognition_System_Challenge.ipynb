{
 "cells": [
  {
   "cell_type": "markdown",
   "metadata": {},
   "source": [
    "## Build Face Recognition System Challenge\n",
    "\n",
    "Imagine a scenario wherein you are building a face recognition system for your company.\n",
    "1. You have 3 employees that you need to register: Person A, B, C. Their photos are in the data folder\n",
    "2. You will Azure Face to register each person by uploading 2 photos for each person.\n",
    "3. You will then verify the identities of new faces using the group photos and the third photo of Person C. Draw bounding boxes for each face and show their person IDs in the photo"
   ]
  }
 ],
 "metadata": {
  "language_info": {
   "name": "python"
  }
 },
 "nbformat": 4,
 "nbformat_minor": 2
}
