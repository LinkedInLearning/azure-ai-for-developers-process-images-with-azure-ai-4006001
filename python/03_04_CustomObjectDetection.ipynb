{
 "cells": [
  {
   "cell_type": "markdown",
   "metadata": {},
   "source": [
    "# Custom Object Detection"
   ]
  },
  {
   "cell_type": "markdown",
   "metadata": {},
   "source": [
    "## Install Library"
   ]
  },
  {
   "cell_type": "code",
   "execution_count": null,
   "metadata": {},
   "outputs": [],
   "source": [
    "%pip install azure-cognitiveservices-vision-customvision"
   ]
  },
  {
   "cell_type": "markdown",
   "metadata": {},
   "source": [
    "## Load Azure Configuration"
   ]
  },
  {
   "cell_type": "code",
   "execution_count": null,
   "metadata": {},
   "outputs": [],
   "source": [
    "import os\n",
    "# retrieve environment variables\n",
    "training_endpoint = os.environ[\"AZURE_CUSTOM_VISION_TRAINING_ENDPOINT\"]\n",
    "training_key = os.environ[\"AZURE_CUSTOM_VISION_TRAINING_KEY\"]\n",
    "prediction_endpoint = os.environ[\"AZURE_CUSTOM_VISION_PREDICTION_ENDPOINT\"]\n",
    "prediction_key = os.environ[\"AZURE_CUSTOM_VISION_PREDICTION_KEY\"]\n",
    "prediction_resource_id = os.environ[\"AZURE_CUSTOM_VISION_PREDICTION_RESOURCE_ID\"]"
   ]
  },
  {
   "cell_type": "markdown",
   "metadata": {},
   "source": [
    "## Authenticate the client"
   ]
  },
  {
   "cell_type": "code",
   "execution_count": null,
   "metadata": {},
   "outputs": [],
   "source": [
    "from azure.cognitiveservices.vision.customvision.training import CustomVisionTrainingClient\n",
    "from azure.cognitiveservices.vision.customvision.prediction import CustomVisionPredictionClient\n",
    "from azure.cognitiveservices.vision.customvision.training.models import ImageFileCreateBatch, ImageFileCreateEntry, Region\n",
    "from msrest.authentication import ApiKeyCredentials\n",
    "import time, uuid\n",
    "\n",
    "credentials = ApiKeyCredentials(in_headers={\"Training-key\": training_key})\n",
    "trainer = CustomVisionTrainingClient(training_endpoint, credentials)\n",
    "prediction_credentials = ApiKeyCredentials(in_headers={\"Prediction-key\": prediction_key})\n",
    "predictor = CustomVisionPredictionClient(prediction_endpoint, prediction_credentials)"
   ]
  },
  {
   "cell_type": "markdown",
   "metadata": {},
   "source": [
    "## Create New Custom Vision Project"
   ]
  },
  {
   "cell_type": "code",
   "execution_count": null,
   "metadata": {},
   "outputs": [],
   "source": [
    "publish_iteration_name = \"detectModel\"\n",
    "\n",
    "# Find the object detection domain\n",
    "obj_detection_domain = next(domain for domain in trainer.get_domains() if domain.type == \"ObjectDetection\" and domain.name == \"General\")\n",
    "\n",
    "# Create a new project\n",
    "print (\"Creating project...\")\n",
    "# Use uuid to avoid project name collisions.\n",
    "project = trainer.create_project(str(uuid.uuid4()), domain_id=obj_detection_domain.id)\n",
    "print(\"Project created with id: {}\".format(project.id))"
   ]
  },
  {
   "cell_type": "code",
   "execution_count": null,
   "metadata": {},
   "outputs": [],
   "source": [
    "# Assuming trainer.get_domains() returns a list of Domain objects\n",
    "domains = trainer.get_domains()\n",
    "\n",
    "# Iterate through each Domain object and print its attributes\n",
    "for domain in domains:\n",
    "    print(f\"ID: {domain.id}\")\n",
    "    print(f\"Name: {domain.name}\")\n",
    "    print(f\"Type: {domain.type}\")\n",
    "    print(f\"Exportable: {domain.exportable}\")\n",
    "    print(\"-\" * 40)"
   ]
  },
  {
   "cell_type": "markdown",
   "metadata": {},
   "source": [
    "## Add Tags to the Project"
   ]
  },
  {
   "cell_type": "code",
   "execution_count": null,
   "metadata": {},
   "outputs": [],
   "source": [
    "# Make two tags in the new project\n",
    "fork_tag = trainer.create_tag(project.id, \"fork\")\n",
    "scissors_tag = trainer.create_tag(project.id, \"scissors\")"
   ]
  },
  {
   "cell_type": "markdown",
   "metadata": {},
   "source": [
    "## Upload and Tag Images\n",
    "The coordinates must be in the order of left, top, width, height"
   ]
  },
  {
   "cell_type": "code",
   "execution_count": null,
   "metadata": {},
   "outputs": [],
   "source": [
    "fork_image_regions = {\n",
    "    \"fork_1\": [ 0.145833328, 0.3509314, 0.5894608, 0.238562092 ],\n",
    "    \"fork_2\": [ 0.294117659, 0.216944471, 0.534313738, 0.5980392 ],\n",
    "    \"fork_3\": [ 0.09191177, 0.0682516545, 0.757352948, 0.6143791 ],\n",
    "    \"fork_4\": [ 0.254901975, 0.185898721, 0.5232843, 0.594771266 ],\n",
    "    \"fork_5\": [ 0.2365196, 0.128709182, 0.5845588, 0.71405226 ],\n",
    "    \"fork_6\": [ 0.115196079, 0.133611143, 0.676470637, 0.6993464 ],\n",
    "    \"fork_7\": [ 0.164215669, 0.31008172, 0.767156839, 0.410130739 ],\n",
    "    \"fork_8\": [ 0.118872553, 0.318251669, 0.817401946, 0.225490168 ],\n",
    "    \"fork_9\": [ 0.18259804, 0.2136765, 0.6335784, 0.643790841 ],\n",
    "    \"fork_10\": [ 0.05269608, 0.282303959, 0.8088235, 0.452614367 ],\n",
    "    \"fork_11\": [ 0.05759804, 0.0894935, 0.9007353, 0.3251634 ],\n",
    "    \"fork_12\": [ 0.3345588, 0.07315363, 0.375, 0.9150327 ],\n",
    "    \"fork_13\": [ 0.269607842, 0.194068655, 0.4093137, 0.6732026 ],\n",
    "    \"fork_14\": [ 0.143382356, 0.218578458, 0.7977941, 0.295751631 ],\n",
    "    \"fork_15\": [ 0.19240196, 0.0633497, 0.5710784, 0.8398692 ],\n",
    "    \"fork_16\": [ 0.140931368, 0.480016381, 0.6838235, 0.240196079 ],\n",
    "    \"fork_17\": [ 0.305147052, 0.2512582, 0.4791667, 0.5408496 ],\n",
    "    \"fork_18\": [ 0.234068632, 0.445702642, 0.6127451, 0.344771236 ],\n",
    "    \"fork_19\": [ 0.219362751, 0.141781077, 0.5919118, 0.6683006 ],\n",
    "    \"fork_20\": [ 0.180147052, 0.239820287, 0.6887255, 0.235294119 ]\n",
    "}\n",
    "\n",
    "scissors_image_regions = {\n",
    "    \"scissors_1\": [ 0.4007353, 0.194068655, 0.259803921, 0.6617647 ],\n",
    "    \"scissors_2\": [ 0.426470578, 0.185898721, 0.172794119, 0.5539216 ],\n",
    "    \"scissors_3\": [ 0.289215684, 0.259428144, 0.403186262, 0.421568632 ],\n",
    "    \"scissors_4\": [ 0.343137264, 0.105833367, 0.332107842, 0.8055556 ],\n",
    "    \"scissors_5\": [ 0.3125, 0.09766343, 0.435049027, 0.71405226 ],\n",
    "    \"scissors_6\": [ 0.379901975, 0.24308826, 0.32107842, 0.5718954 ],\n",
    "    \"scissors_7\": [ 0.341911763, 0.20714055, 0.3137255, 0.6356209 ],\n",
    "    \"scissors_8\": [ 0.231617644, 0.08459154, 0.504901946, 0.8480392 ],\n",
    "    \"scissors_9\": [ 0.170343131, 0.332957536, 0.767156839, 0.403594762 ],\n",
    "    \"scissors_10\": [ 0.204656869, 0.120539248, 0.5245098, 0.743464053 ],\n",
    "    \"scissors_11\": [ 0.05514706, 0.159754932, 0.799019635, 0.730392158 ],\n",
    "    \"scissors_12\": [ 0.265931368, 0.169558853, 0.5061275, 0.606209159 ],\n",
    "    \"scissors_13\": [ 0.241421565, 0.184264734, 0.448529422, 0.6830065 ],\n",
    "    \"scissors_14\": [ 0.05759804, 0.05027781, 0.75, 0.882352948 ],\n",
    "    \"scissors_15\": [ 0.191176474, 0.169558853, 0.6936275, 0.6748366 ],\n",
    "    \"scissors_16\": [ 0.1004902, 0.279036, 0.6911765, 0.477124184 ],\n",
    "    \"scissors_17\": [ 0.2720588, 0.131977156, 0.4987745, 0.6911765 ],\n",
    "    \"scissors_18\": [ 0.180147052, 0.112369314, 0.6262255, 0.6666667 ],\n",
    "    \"scissors_19\": [ 0.333333343, 0.0274019931, 0.443627447, 0.852941155 ],\n",
    "    \"scissors_20\": [ 0.158088237, 0.04047389, 0.6691176, 0.843137264 ]\n",
    "}"
   ]
  },
  {
   "cell_type": "code",
   "execution_count": null,
   "metadata": {},
   "outputs": [],
   "source": [
    "# Define the base location for the images\n",
    "base_image_location = \"../data/customobjectdetection/\"\n",
    "\n",
    "# Initialize a list to hold the tagged images with regions\n",
    "print(\"Adding images...\")\n",
    "tagged_images_with_regions = []\n",
    "\n",
    "# Loop through the fork images and their regions\n",
    "for file_name in fork_image_regions.keys():\n",
    "    x, y, w, h = fork_image_regions[file_name]\n",
    "    # Create a region for the fork tag\n",
    "    regions = [Region(tag_id=fork_tag.id, left=x, top=y, width=w, height=h)]\n",
    "\n",
    "    # Open the image file and read its contents\n",
    "    with open(os.path.join(base_image_location, \"fork\", file_name + \".jpg\"), mode=\"rb\") as image_contents:\n",
    "        # Append the image and its regions to the list\n",
    "        tagged_images_with_regions.append(ImageFileCreateEntry(name=file_name, contents=image_contents.read(), regions=regions))\n",
    "\n",
    "# Loop through the scissors images and their regions\n",
    "for file_name in scissors_image_regions.keys():\n",
    "    x, y, w, h = scissors_image_regions[file_name]\n",
    "    # Create a region for the scissors tag\n",
    "    regions = [Region(tag_id=scissors_tag.id, left=x, top=y, width=w, height=h)]\n",
    "\n",
    "    # Open the image file and read its contents\n",
    "    with open(os.path.join(base_image_location, \"scissors\", file_name + \".jpg\"), mode=\"rb\") as image_contents:\n",
    "        # Append the image and its regions to the list\n",
    "        tagged_images_with_regions.append(ImageFileCreateEntry(name=file_name, contents=image_contents.read(), regions=regions))\n",
    "\n",
    "# Upload the images to the Custom Vision project\n",
    "upload_result = trainer.create_images_from_files(project.id, ImageFileCreateBatch(images=tagged_images_with_regions))\n",
    "\n",
    "# Check if the upload was successful\n",
    "if not upload_result.is_batch_successful:\n",
    "    print(\"Image batch upload failed.\")\n",
    "    for image in upload_result.images:\n",
    "        print(\"Image status: \", image.status)\n",
    "    exit(-1)"
   ]
  },
  {
   "cell_type": "markdown",
   "metadata": {},
   "source": [
    "## Train the project"
   ]
  },
  {
   "cell_type": "code",
   "execution_count": null,
   "metadata": {},
   "outputs": [],
   "source": [
    "print (\"Training...\")\n",
    "iteration = trainer.train_project(project.id)\n",
    "while (iteration.status != \"Completed\"):\n",
    "    iteration = trainer.get_iteration(project.id, iteration.id)\n",
    "    print (\"Training status: \" + iteration.status)\n",
    "    time.sleep(1)"
   ]
  },
  {
   "cell_type": "markdown",
   "metadata": {},
   "source": [
    "## Publish the current iteration"
   ]
  },
  {
   "cell_type": "code",
   "execution_count": null,
   "metadata": {},
   "outputs": [],
   "source": [
    "# The iteration is now trained. Publish it to the project endpoint\n",
    "trainer.publish_iteration(project.id, iteration.id, publish_iteration_name, prediction_resource_id)\n",
    "print (\"Done!\")"
   ]
  },
  {
   "cell_type": "markdown",
   "metadata": {},
   "source": [
    "## Test the prediction endpoint"
   ]
  },
  {
   "cell_type": "code",
   "execution_count": null,
   "metadata": {},
   "outputs": [],
   "source": [
    "from PIL import Image, ImageDraw\n",
    "import os\n",
    "\n",
    "# Define the base location for the images\n",
    "base_image_location = \"../data/customobjectdetection/\"\n",
    "\n",
    "# Open the sample image and get back the prediction results.\n",
    "with open(os.path.join(base_image_location, \"test\", \"test_image.jpg\"), mode=\"rb\") as test_data:\n",
    "    results = predictor.detect_image(project.id, publish_iteration_name, test_data)\n",
    "\n",
    "# Load the image using Pillow\n",
    "image = Image.open(os.path.join(base_image_location, \"test\", \"test_image.jpg\"))\n",
    "draw = ImageDraw.Draw(image)\n",
    "\n",
    "threshold = 80\n",
    "# Display the results and draw bounding boxes for predictions above threshold\n",
    "for prediction in results.predictions:\n",
    "    print(\"\\t\" + prediction.tag_name + \": {0:.2f}% bbox.left = {1:.2f}, bbox.top = {2:.2f}, bbox.width = {3:.2f}, bbox.height = {4:.2f}\".format(prediction.probability * 100, prediction.bounding_box.left, prediction.bounding_box.top, prediction.bounding_box.width, prediction.bounding_box.height))\n",
    "    if prediction.probability * 100 > threshold:\n",
    "        left = prediction.bounding_box.left * image.width\n",
    "        top = prediction.bounding_box.top * image.height\n",
    "        width = prediction.bounding_box.width * image.width\n",
    "        height = prediction.bounding_box.height * image.height\n",
    "        right = left + width\n",
    "        bottom = top + height\n",
    "\n",
    "        # Draw the bounding box\n",
    "        draw.rectangle([left, top, right, bottom], outline=\"red\", width=3)\n",
    "        draw.text((left, top), f\"{prediction.tag_name}: {prediction.probability * 100:.2f}%\", fill=\"red\")\n",
    "\n",
    "# Save or display the image with bounding boxes\n",
    "image.show()  # To display the image\n",
    "# image.save(\"output_image.jpg\")  # To save the image"
   ]
  },
  {
   "cell_type": "markdown",
   "metadata": {},
   "source": [
    "## Further predictions\n",
    "\n",
    "Run this when you are using the trained model to make predictions for your application"
   ]
  },
  {
   "cell_type": "code",
   "execution_count": null,
   "metadata": {},
   "outputs": [],
   "source": [
    "from PIL import Image, ImageDraw\n",
    "import os\n",
    "from azure.cognitiveservices.vision.customvision.prediction import CustomVisionPredictionClient\n",
    "\n",
    "# retrieve environment variables\n",
    "prediction_endpoint = os.environ[\"AZURE_CUSTOM_VISION_PREDICTION_ENDPOINT\"]\n",
    "prediction_key = os.environ[\"AZURE_CUSTOM_VISION_PREDICTION_KEY\"]\n",
    "\n",
    "# Create an instance of the prediction service\n",
    "prediction_credentials = ApiKeyCredentials(in_headers={\"Prediction-key\": prediction_key})\n",
    "predictor = CustomVisionPredictionClient(prediction_endpoint, prediction_credentials)\n",
    "\n",
    "# Base Image Location\n",
    "base_image_location = \"../data/customobjectdetection/\"\n",
    "\n",
    "# Go to Custom Vision Studio to get the Project ID and Iteration Name\n",
    "project_id = \"b0ce03d6-5995-472d-ad66-a6a0fdc4dd9e\"\n",
    "iteration_id = \"detectModel\"\n",
    "\n",
    "# Open the sample image and get back the prediction results.\n",
    "with open(os.path.join (base_image_location, \"test\", \"test_image.jpg\"), mode=\"rb\") as test_data:\n",
    "    results = predictor.detect_image(project_id, iteration_id, test_data)\n",
    "\n",
    "# Load the image using Pillow\n",
    "image = Image.open(os.path.join(base_image_location, \"test\", \"test_image.jpg\"))\n",
    "draw = ImageDraw.Draw(image)\n",
    "\n",
    "threshold = 80\n",
    "# Display the results and draw bounding boxes for predictions above threshold\n",
    "for prediction in results.predictions:\n",
    "    print(\"\\t\" + prediction.tag_name + \": {0:.2f}% bbox.left = {1:.2f}, bbox.top = {2:.2f}, bbox.width = {3:.2f}, bbox.height = {4:.2f}\".format(prediction.probability * 100, prediction.bounding_box.left, prediction.bounding_box.top, prediction.bounding_box.width, prediction.bounding_box.height))\n",
    "    if prediction.probability * 100 > threshold:\n",
    "        left = prediction.bounding_box.left * image.width\n",
    "        top = prediction.bounding_box.top * image.height\n",
    "        width = prediction.bounding_box.width * image.width\n",
    "        height = prediction.bounding_box.height * image.height\n",
    "        right = left + width\n",
    "        bottom = top + height\n",
    "\n",
    "        # Draw the bounding box\n",
    "        draw.rectangle([left, top, right, bottom], outline=\"red\", width=3)\n",
    "        draw.text((left, top), f\"{prediction.tag_name}: {prediction.probability * 100:.2f}%\", fill=\"red\")\n",
    "\n",
    "# Save or display the image with bounding boxes\n",
    "image.show()  # To display the image\n",
    "# image.save(\"output_image.jpg\")  # To save the image"
   ]
  },
  {
   "cell_type": "markdown",
   "metadata": {},
   "source": [
    "## Clean up resources"
   ]
  },
  {
   "cell_type": "code",
   "execution_count": null,
   "metadata": {},
   "outputs": [],
   "source": [
    "print(\"Cleaning up...\")\n",
    "# unpublish iteration, delete the iteration, then delete the project\n",
    "trainer.unpublish_iteration(project.id, iteration.id)\n",
    "trainer.delete_iteration(project.id, iteration.id)\n",
    "trainer.delete_project(project.id)"
   ]
  }
 ],
 "metadata": {
  "kernelspec": {
   "display_name": "Python 3",
   "language": "python",
   "name": "python3"
  },
  "language_info": {
   "codemirror_mode": {
    "name": "ipython",
    "version": 3
   },
   "file_extension": ".py",
   "mimetype": "text/x-python",
   "name": "python",
   "nbconvert_exporter": "python",
   "pygments_lexer": "ipython3",
   "version": "3.10.12"
  }
 },
 "nbformat": 4,
 "nbformat_minor": 2
}
