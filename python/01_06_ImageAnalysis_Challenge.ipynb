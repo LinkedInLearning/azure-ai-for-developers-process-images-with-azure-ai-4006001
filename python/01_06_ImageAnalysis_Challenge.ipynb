{
 "cells": [
  {
   "cell_type": "markdown",
   "metadata": {},
   "source": [
    "## Image Analysis Challenge\n",
    "\n",
    "For this challenge, you will analyze an image from a URL. https://learn.microsoft.com/en-us/python/api/azure-ai-vision-imageanalysis/azure.ai.vision.imageanalysis.imageanalysisclient?view=azure-python#azure-ai-vision-imageanalysis-imageanalysisclient-analyze-from-url\n",
    "1. The image file must be stored in Azure Storage\n",
    "2. You will get the Caption, Dense Captions, and Tags of the image."
   ]
  }
 ],
 "metadata": {
  "language_info": {
   "name": "python"
  }
 },
 "nbformat": 4,
 "nbformat_minor": 2
}
